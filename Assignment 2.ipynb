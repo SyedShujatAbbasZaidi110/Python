{
 "cells": [
  {
   "cell_type": "code",
   "execution_count": 6,
   "id": "915bd4a4-8ad2-482a-bb5d-d7b698f91297",
   "metadata": {},
   "outputs": [
    {
     "name": "stdin",
     "output_type": "stream",
     "text": [
      "Enter your age :  13\n"
     ]
    },
    {
     "name": "stdout",
     "output_type": "stream",
     "text": [
      "You are a teenager\n"
     ]
    }
   ],
   "source": [
    "#Question1. Age Group Classification:\n",
    "\n",
    "age = int(input(\"Enter your age : \"))\n",
    "if 0 <= age <= 12:\n",
    "    print(\"You are a child\")\n",
    "elif 13 <= age <= 19:\n",
    "    print(\"You are a teenager\")\n",
    "elif 20 <= age <= 64:\n",
    "    print(\"You are a Adult\")\n",
    "else: print(\"You are a senior\")"
   ]
  },
  {
   "cell_type": "code",
   "execution_count": 12,
   "id": "cf0022f3-1ca4-476b-a479-32a1c5852fc9",
   "metadata": {},
   "outputs": [
    {
     "name": "stdin",
     "output_type": "stream",
     "text": [
      "Enter the purchase amount  1500\n"
     ]
    },
    {
     "name": "stdout",
     "output_type": "stream",
     "text": [
      "Your are the premium member with the amount of 1500\n"
     ]
    }
   ],
   "source": [
    "# Question2. Checking for eligibility for discount\n",
    "amount = int(input(\"Enter the purchase amount \"))\n",
    "if (amount >= 1000) and amount < 2000:\n",
    "    print(\"Your are the premium member with the amount of\", amount)\n",
    "elif amount >= 2000:\n",
    "    print(\"Your are the regular member with the amount of\", amount)\n",
    "else: print(\"Not eligible for the discount\")"
   ]
  },
  {
   "cell_type": "code",
   "execution_count": 16,
   "id": "03c3e1ee-3675-43e3-84ff-3ee72ca81481",
   "metadata": {},
   "outputs": [
    {
     "name": "stdin",
     "output_type": "stream",
     "text": [
      "Enter your age :  19\n",
      "Enter the citizenship status: citizen/non-citizen citizen\n"
     ]
    },
    {
     "name": "stdout",
     "output_type": "stream",
     "text": [
      "You are eligible for vote\n"
     ]
    }
   ],
   "source": [
    "# Question3 Voting Eligibility Check\n",
    "age1 = int(input(\"Enter your age : \"))\n",
    "status = input(\"Enter the citizenship status: citizen/non-citizen\")\n",
    "if (age1 >= 18) and (status == \"citizen\" or status == \"Citizen\" or status == \"CITIZEN\" ):\n",
    "    print(\"You are eligible for vote\")\n",
    "else:\n",
    "    print(\"You are not eligible\")"
   ]
  },
  {
   "cell_type": "code",
   "execution_count": 20,
   "id": "fc74a7a9-1627-4db2-a8a4-5b56e6cd80ca",
   "metadata": {},
   "outputs": [
    {
     "name": "stdin",
     "output_type": "stream",
     "text": [
      "Enter employee's performance rating (excellent/good/satisfactory):  good\n",
      "Enter employee's years of service:  12\n"
     ]
    },
    {
     "name": "stdout",
     "output_type": "stream",
     "text": [
      "You are eligible for bonus\n"
     ]
    }
   ],
   "source": [
    "# Question4 Employee salary bonus eligibility\n",
    "rating = input(\"Enter employee's performance rating (excellent/good/satisfactory): \").lower()\n",
    "year = int(input(\"Enter employee's years of service: \"))\n",
    "\n",
    "if (year >= 15) and (rating == \"satisfactory\"):\n",
    "    print(\"You are eligible for bonus\")\n",
    "elif (year >= 10) and (rating == \"good\"):\n",
    "    print(\"You are eligible for bonus\")\n",
    "elif (year >= 5) and (rating == \"excellent\"):\n",
    "    print(\"You are eligible for bonus\")\n",
    "else:\n",
    "    print(\"You are not eligible for bonus\")"
   ]
  },
  {
   "cell_type": "code",
   "execution_count": 22,
   "id": "f4c4e565-2896-4e54-8dbe-44e127bce8eb",
   "metadata": {},
   "outputs": [
    {
     "data": {
      "text/plain": [
       "\"I'm always with you\""
      ]
     },
     "execution_count": 22,
     "metadata": {},
     "output_type": "execute_result"
    }
   ],
   "source": [
    "# Question5 \n",
    "text = \"I'm always with you\";\n",
    "text"
   ]
  },
  {
   "cell_type": "code",
   "execution_count": 24,
   "id": "3e9bf721-e59f-4880-986b-6d157be65229",
   "metadata": {},
   "outputs": [
    {
     "data": {
      "text/plain": [
       "\"I'm_always_with_you\""
      ]
     },
     "execution_count": 24,
     "metadata": {},
     "output_type": "execute_result"
    }
   ],
   "source": [
    "text_replace = text.replace(\" \", \"_\")\n",
    "text_replace"
   ]
  },
  {
   "cell_type": "code",
   "execution_count": 26,
   "id": "0352130e-4966-4b8a-b187-52bacd65b6a4",
   "metadata": {},
   "outputs": [
    {
     "data": {
      "text/plain": [
       "3"
      ]
     },
     "execution_count": 26,
     "metadata": {},
     "output_type": "execute_result"
    }
   ],
   "source": [
    "text_count = text_replace.count(\"_\")\n",
    "text_count"
   ]
  },
  {
   "cell_type": "code",
   "execution_count": 28,
   "id": "1d0cc45c-558a-4557-8377-c4125487621d",
   "metadata": {},
   "outputs": [
    {
     "data": {
      "text/plain": [
       "3"
      ]
     },
     "execution_count": 28,
     "metadata": {},
     "output_type": "execute_result"
    }
   ],
   "source": [
    "text_find = text_replace.find('_')\n",
    "text_find"
   ]
  },
  {
   "cell_type": "code",
   "execution_count": 30,
   "id": "3ec8f553-f8ed-411c-831e-ef3e59fee160",
   "metadata": {},
   "outputs": [
    {
     "name": "stdout",
     "output_type": "stream",
     "text": [
      "I'm happy with \n"
     ]
    }
   ],
   "source": [
    "# Question6\n",
    "string = \"I'm happy with you\"\n",
    "print(string[:-3])"
   ]
  },
  {
   "cell_type": "code",
   "execution_count": 32,
   "id": "250f2f07-bed1-4819-8274-c6ef1392e064",
   "metadata": {},
   "outputs": [
    {
     "name": "stdout",
     "output_type": "stream",
     "text": [
      "Imhpywt o\n"
     ]
    }
   ],
   "source": [
    "print(string[::2])"
   ]
  },
  {
   "cell_type": "code",
   "execution_count": 34,
   "id": "dcedb690-6afa-4dfd-8ffd-3fc4fd7925f7",
   "metadata": {},
   "outputs": [
    {
     "name": "stdout",
     "output_type": "stream",
     "text": [
      "uoy htiw yppah m'I\n"
     ]
    }
   ],
   "source": [
    "print(string[::-1])"
   ]
  },
  {
   "cell_type": "code",
   "execution_count": 36,
   "id": "f4eebdb3-db01-4391-8413-3d3111e0ddd4",
   "metadata": {},
   "outputs": [
    {
     "name": "stdout",
     "output_type": "stream",
     "text": [
      "['Hello', 'World,', 'We', 'are', 'learning', 'Python']\n"
     ]
    }
   ],
   "source": [
    "# Question7 \n",
    "sentence = \"Hello World, We are learning Python\"\n",
    "words = sentence.split()\n",
    "print(words)"
   ]
  },
  {
   "cell_type": "code",
   "execution_count": 38,
   "id": "c2a15b8d-f08c-423e-9983-5dd20d8365f3",
   "metadata": {},
   "outputs": [
    {
     "data": {
      "text/plain": [
       "['Python', 'learning', 'are', 'We', 'World,', 'Hello']"
      ]
     },
     "execution_count": 38,
     "metadata": {},
     "output_type": "execute_result"
    }
   ],
   "source": [
    "reversed_word = words[::-1]\n",
    "reversed_word"
   ]
  },
  {
   "cell_type": "code",
   "execution_count": 40,
   "id": "b12693cb-fe48-4886-9feb-8ea4e6bc45f0",
   "metadata": {},
   "outputs": [
    {
     "data": {
      "text/plain": [
       "'Python learning are We World, Hello'"
      ]
     },
     "execution_count": 40,
     "metadata": {},
     "output_type": "execute_result"
    }
   ],
   "source": [
    "join_words = \" \".join(reversed_word)\n",
    "join_words"
   ]
  },
  {
   "cell_type": "code",
   "execution_count": 42,
   "id": "d3d16f8e-cae4-4fbd-8f88-48b729bc58e0",
   "metadata": {},
   "outputs": [
    {
     "name": "stdout",
     "output_type": "stream",
     "text": [
      "12345\n"
     ]
    }
   ],
   "source": [
    "# Question8\n",
    "code = \"SKU-12345-XYZ\"\n",
    "print(code[4:9])"
   ]
  },
  {
   "cell_type": "code",
   "execution_count": 77,
   "id": "d6985eed-6790-4b2f-b29b-28d0a5e1f5e3",
   "metadata": {},
   "outputs": [
    {
     "name": "stdin",
     "output_type": "stream",
     "text": [
      "Enter your password:  shujat@\n"
     ]
    },
    {
     "name": "stdout",
     "output_type": "stream",
     "text": [
      "Password checks:\n",
      "Contains uppercase characters: False\n",
      "Contains lowercase characters: True\n",
      "Contains spaces: False\n",
      "Contains special characters: True\n"
     ]
    }
   ],
   "source": [
    "# Question9\n",
    "import string\n",
    "\n",
    "password = input(\"Enter your password: \")\n",
    "contains_uppercase = any(char.isupper() for char in password) #Checking for uppercase characters\n",
    "contains_lowercase = any(char.islower() for char in password) #Checking for lowercase characters\n",
    "contains_space = any(char.isspace() for char in password) #Checking for spaces\n",
    "special_characters = string.punctuation\n",
    "contains_special = any(char in special_characters for char in password) #Checking for special characters\n",
    "\n",
    "print(\"Password checks:\")\n",
    "print(f\"Contains uppercase characters: {contains_uppercase}\")\n",
    "print(f\"Contains lowercase characters: {contains_lowercase}\")\n",
    "print(f\"Contains spaces: {contains_space}\")\n",
    "print(f\"Contains special characters: {contains_special}\")"
   ]
  },
  {
   "cell_type": "code",
   "execution_count": 52,
   "id": "7c4c0495-6f81-4358-8492-5ae7e6424330",
   "metadata": {},
   "outputs": [
    {
     "name": "stdout",
     "output_type": "stream",
     "text": [
      "programming\n"
     ]
    }
   ],
   "source": [
    "# Question10 Find the Longest Word\n",
    "Input= \"I love programming in Python\"\n",
    "words = Input.split()\n",
    "longestword = max(words, key=len)\n",
    "print(longestword)"
   ]
  },
  {
   "cell_type": "code",
   "execution_count": null,
   "id": "05338b6a-ba2c-4f5c-b549-5abf330dbec0",
   "metadata": {},
   "outputs": [],
   "source": []
  },
  {
   "cell_type": "code",
   "execution_count": null,
   "id": "ed20d583-5dad-4726-90c6-b5ed9aa04f61",
   "metadata": {},
   "outputs": [],
   "source": []
  }
 ],
 "metadata": {
  "kernelspec": {
   "display_name": "Python 3 (ipykernel)",
   "language": "python",
   "name": "python3"
  },
  "language_info": {
   "codemirror_mode": {
    "name": "ipython",
    "version": 3
   },
   "file_extension": ".py",
   "mimetype": "text/x-python",
   "name": "python",
   "nbconvert_exporter": "python",
   "pygments_lexer": "ipython3",
   "version": "3.12.7"
  }
 },
 "nbformat": 4,
 "nbformat_minor": 5
}
