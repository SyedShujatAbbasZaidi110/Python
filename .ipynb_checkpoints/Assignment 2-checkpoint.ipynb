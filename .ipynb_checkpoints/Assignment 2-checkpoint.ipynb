{
 "cells": [
  {
   "cell_type": "markdown",
   "id": "4e63e4f8-ac32-4970-bffe-5733c6f326fd",
   "metadata": {},
   "source": [
    "### Question 1: Age Group Classification\n",
    "#### Write a Python program that takes the age of a person as input and classifies them into one of the\n",
    "#### following age groups:\n",
    "#### \"Child\" if the age is between 0 and 12 (inclusive).\n",
    "#### \"Teenager\" if the age is between 13 and 19 (inclusive).\n",
    "#### \"Adult\" if the age is between 20 and 64 (inclusive).\n",
    "#### \"Senior\" if the age is 65 or older."
   ]
  },
  {
   "cell_type": "code",
   "execution_count": 2,
   "id": "915bd4a4-8ad2-482a-bb5d-d7b698f91297",
   "metadata": {},
   "outputs": [
    {
     "name": "stdin",
     "output_type": "stream",
     "text": [
      "Enter your age :  18\n"
     ]
    },
    {
     "name": "stdout",
     "output_type": "stream",
     "text": [
      "You are a teenager\n"
     ]
    }
   ],
   "source": [
    "age = int(input(\"Enter your age : \"))\n",
    "if 0 <= age <= 12:\n",
    "    print(\"You are a child\")\n",
    "elif 13 <= age <= 19:\n",
    "    print(\"You are a teenager\")\n",
    "elif 20 <= age <= 64:\n",
    "    print(\"You are a Adult\")\n",
    "else: print(\"You are a senior\")"
   ]
  },
  {
   "cell_type": "markdown",
   "id": "04b001a6-c6c9-4098-8bc9-2c95afe66564",
   "metadata": {},
   "source": [
    "### Question 2: Checking for Eligibility for Discount\n",
    "#### Write a Python program that determines if a customer is eligible for a discount. The program shouldtake the customer's membership status and purchase amount as input and check the following\n",
    "#### conditions:\n",
    "#### The customer is a \"premium\" member and the purchase amount is greater than or equal to 1000.\n",
    "#### The customer is a \"regular\" member and the purchase amount is greater than or equal to 2000.\n",
    "#### If the customer meets either of the above conditions, print \"Eligible for discount\", otherwise print\n",
    "#### \"Not eligible for discount\".\n"
   ]
  },
  {
   "cell_type": "code",
   "execution_count": 5,
   "id": "cf0022f3-1ca4-476b-a479-32a1c5852fc9",
   "metadata": {},
   "outputs": [
    {
     "name": "stdin",
     "output_type": "stream",
     "text": [
      "Enter the purchase amount  2500\n"
     ]
    },
    {
     "name": "stdout",
     "output_type": "stream",
     "text": [
      "Your are the regular member with the amount of 2500\n"
     ]
    }
   ],
   "source": [
    "amount = int(input(\"Enter the purchase amount \"))\n",
    "if (amount >= 1000) and amount < 2000:\n",
    "    print(\"Your are the premium member with the amount of\", amount)\n",
    "elif amount >= 2000:\n",
    "    print(\"Your are the regular member with the amount of\", amount)\n",
    "else: print(\"Not eligible for the discount\")"
   ]
  },
  {
   "cell_type": "markdown",
   "id": "c41866ba-e031-4ff1-b23c-44a397235921",
   "metadata": {},
   "source": [
    "### Question 3: Voting Eligibility Check\n",
    "\n",
    "#### Write a Python program that checks if a person is eligible to vote based on their age and citizenship status.\n",
    "\n",
    "#### The program should take the following inputs:\n",
    "\n",
    "#### Age (an integer).\n",
    "#### Citizenship status (a string: either \"citizen\" or \"non-citizen\").\n",
    "#### The eligibility conditions are:\n",
    "#### The person must be at least 18 years old and a \"citizen\" to be eligible to vote.\n",
    "#### Alternatively, the person can be at least 16 years old and a \"citizen\" of a special region where voting is allowed from age 16.\n",
    "#### If the person meets either of the conditions, print \"Eligible to vote\", otherwise print \"Not eligible to vote\". \n"
   ]
  },
  {
   "cell_type": "code",
   "execution_count": 8,
   "id": "03c3e1ee-3675-43e3-84ff-3ee72ca81481",
   "metadata": {},
   "outputs": [
    {
     "name": "stdin",
     "output_type": "stream",
     "text": [
      "Enter your age :  19\n",
      "Enter the citizenship status: citizen/non-citizen citizen\n"
     ]
    },
    {
     "name": "stdout",
     "output_type": "stream",
     "text": [
      "You are eligible for vote\n"
     ]
    }
   ],
   "source": [
    "age1 = int(input(\"Enter your age : \"))\n",
    "status = input(\"Enter the citizenship status: citizen/non-citizen\")\n",
    "if (age1 >= 18) and (status == \"citizen\" or status == \"Citizen\" or status == \"CITIZEN\" ):\n",
    "    print(\"You are eligible for vote\")\n",
    "else:\n",
    "    print(\"You are not eligible\")"
   ]
  },
  {
   "cell_type": "markdown",
   "id": "40ec59aa-7904-407d-843c-0b2c3e42c28d",
   "metadata": {},
   "source": [
    "### Question 4: Employee Salary Bonus Eligibility\n",
    "#### Write a Python program that determines if an employee is eligible for a salary bonus based on the\n",
    "#### following conditions:\n",
    "#### The employee's performance rating is \"Excellent\" and their years of service are greater than or equal to 5 years.\n",
    "#### The employee's performance rating is \"Good\" and their years of service are greater than or equal to 10 years.\n",
    "#### The employee's performance rating is \"Satisfactory\" or their years of service are greater than or equal to 15 years.\n",
    "#### The employee is not eligible for a bonus if neither of these conditions is met.\n",
    "#### The program should print one of the following:\n",
    "#### \"Eligible for bonus\" if the employee meets any of the criteria.\n",
    "#### \"Not eligible for bonus\" if none of the conditions apply.\n"
   ]
  },
  {
   "cell_type": "code",
   "execution_count": 11,
   "id": "fc74a7a9-1627-4db2-a8a4-5b56e6cd80ca",
   "metadata": {},
   "outputs": [
    {
     "name": "stdin",
     "output_type": "stream",
     "text": [
      "Enter employee's performance rating (excellent/good/satisfactory):  GOOD\n",
      "Enter employee's years of service:  10\n"
     ]
    },
    {
     "name": "stdout",
     "output_type": "stream",
     "text": [
      "You are eligible for bonus\n"
     ]
    }
   ],
   "source": [
    "rating = input(\"Enter employee's performance rating (excellent/good/satisfactory): \").lower()\n",
    "year = int(input(\"Enter employee's years of service: \"))\n",
    "\n",
    "if (year >= 15) and (rating == \"satisfactory\"):\n",
    "    print(\"You are eligible for bonus\")\n",
    "elif (year >= 10) and (rating == \"good\"):\n",
    "    print(\"You are eligible for bonus\")\n",
    "elif (year >= 5) and (rating == \"excellent\"):\n",
    "    print(\"You are eligible for bonus\")\n",
    "else:\n",
    "    print(\"You are not eligible for bonus\")"
   ]
  },
  {
   "cell_type": "markdown",
   "id": "af97d78a-0c23-471a-8f27-de1d15bc2fa3",
   "metadata": {},
   "source": [
    "### Question 5. \n",
    "#### Write a program that replaces spaces with underscores, counts how many underscores are there, and finds the position of the first underscore.\n",
    "\n",
    "#### Use text: \"I'm learning Python programming\"?"
   ]
  },
  {
   "cell_type": "code",
   "execution_count": 14,
   "id": "f4c4e565-2896-4e54-8dbe-44e127bce8eb",
   "metadata": {},
   "outputs": [
    {
     "data": {
      "text/plain": [
       "\"I'm always with you\""
      ]
     },
     "execution_count": 14,
     "metadata": {},
     "output_type": "execute_result"
    }
   ],
   "source": [
    "text = \"I'm always with you\";\n",
    "text"
   ]
  },
  {
   "cell_type": "code",
   "execution_count": 24,
   "id": "3e9bf721-e59f-4880-986b-6d157be65229",
   "metadata": {},
   "outputs": [
    {
     "data": {
      "text/plain": [
       "\"I'm_always_with_you\""
      ]
     },
     "execution_count": 24,
     "metadata": {},
     "output_type": "execute_result"
    }
   ],
   "source": [
    "text_replace = text.replace(\" \", \"_\")\n",
    "text_replace"
   ]
  },
  {
   "cell_type": "code",
   "execution_count": 26,
   "id": "0352130e-4966-4b8a-b187-52bacd65b6a4",
   "metadata": {},
   "outputs": [
    {
     "data": {
      "text/plain": [
       "3"
      ]
     },
     "execution_count": 26,
     "metadata": {},
     "output_type": "execute_result"
    }
   ],
   "source": [
    "text_count = text_replace.count(\"_\")\n",
    "text_count"
   ]
  },
  {
   "cell_type": "code",
   "execution_count": 28,
   "id": "1d0cc45c-558a-4557-8377-c4125487621d",
   "metadata": {},
   "outputs": [
    {
     "data": {
      "text/plain": [
       "3"
      ]
     },
     "execution_count": 28,
     "metadata": {},
     "output_type": "execute_result"
    }
   ],
   "source": [
    "text_find = text_replace.find('_')\n",
    "text_find"
   ]
  },
  {
   "cell_type": "markdown",
   "id": "2950c389-21e1-43ed-8963-8d4c42b94ed0",
   "metadata": {},
   "source": [
    "### Question 6:\n",
    "#### Write a Python program that:\n",
    "#### ● Takes a string as input.\n",
    "#### ● Prints all characters of the string except the last 3 using slicing.\n",
    "#### ● Prints every second character of the string using slicing.\n",
    "#### ● Prints the string in reverse using slicing\n"
   ]
  },
  {
   "cell_type": "code",
   "execution_count": 18,
   "id": "3ec8f553-f8ed-411c-831e-ef3e59fee160",
   "metadata": {},
   "outputs": [
    {
     "name": "stdout",
     "output_type": "stream",
     "text": [
      "I'm happy with \n"
     ]
    }
   ],
   "source": [
    "string = \"I'm happy with you\"\n",
    "print(string[:-3])"
   ]
  },
  {
   "cell_type": "code",
   "execution_count": 32,
   "id": "250f2f07-bed1-4819-8274-c6ef1392e064",
   "metadata": {},
   "outputs": [
    {
     "name": "stdout",
     "output_type": "stream",
     "text": [
      "Imhpywt o\n"
     ]
    }
   ],
   "source": [
    "print(string[::2])"
   ]
  },
  {
   "cell_type": "code",
   "execution_count": 34,
   "id": "dcedb690-6afa-4dfd-8ffd-3fc4fd7925f7",
   "metadata": {},
   "outputs": [
    {
     "name": "stdout",
     "output_type": "stream",
     "text": [
      "uoy htiw yppah m'I\n"
     ]
    }
   ],
   "source": [
    "print(string[::-1])"
   ]
  },
  {
   "cell_type": "markdown",
   "id": "6775b5ee-5fd4-4c23-9de5-d11b3419d988",
   "metadata": {},
   "source": [
    "### Question 7.\n",
    "#### Given a sentence, you need to reverse the order of the words in the sentence while preserving their original capitalization and spaces.\n",
    "\n",
    "#### Use text : \"Hello World, We are learning Python\""
   ]
  },
  {
   "cell_type": "code",
   "execution_count": 21,
   "id": "f4eebdb3-db01-4391-8413-3d3111e0ddd4",
   "metadata": {},
   "outputs": [
    {
     "name": "stdout",
     "output_type": "stream",
     "text": [
      "['Hello', 'World,', 'We', 'are', 'learning', 'Python']\n"
     ]
    }
   ],
   "source": [
    "sentence = \"Hello World, We are learning Python\"\n",
    "words = sentence.split()\n",
    "print(words)"
   ]
  },
  {
   "cell_type": "code",
   "execution_count": 38,
   "id": "c2a15b8d-f08c-423e-9983-5dd20d8365f3",
   "metadata": {},
   "outputs": [
    {
     "data": {
      "text/plain": [
       "['Python', 'learning', 'are', 'We', 'World,', 'Hello']"
      ]
     },
     "execution_count": 38,
     "metadata": {},
     "output_type": "execute_result"
    }
   ],
   "source": [
    "reversed_word = words[::-1]\n",
    "reversed_word"
   ]
  },
  {
   "cell_type": "code",
   "execution_count": 40,
   "id": "b12693cb-fe48-4886-9feb-8ea4e6bc45f0",
   "metadata": {},
   "outputs": [
    {
     "data": {
      "text/plain": [
       "'Python learning are We World, Hello'"
      ]
     },
     "execution_count": 40,
     "metadata": {},
     "output_type": "execute_result"
    }
   ],
   "source": [
    "join_words = \" \".join(reversed_word)\n",
    "join_words"
   ]
  },
  {
   "cell_type": "markdown",
   "id": "4a746f59-512b-4976-b0c4-91dc053bde59",
   "metadata": {},
   "source": [
    "### Question 8. \n",
    "#### You have a product code that follows the format \"SKU-12345-XYZ\". You need to:\n",
    "#### Remove the \"SKU-\" and the \"-XYZ\" from the product code. Extract and return the number"
   ]
  },
  {
   "cell_type": "code",
   "execution_count": 25,
   "id": "d3d16f8e-cae4-4fbd-8f88-48b729bc58e0",
   "metadata": {},
   "outputs": [
    {
     "name": "stdout",
     "output_type": "stream",
     "text": [
      "12345\n"
     ]
    }
   ],
   "source": [
    "code = \"SKU-12345-XYZ\"\n",
    "print(code[4:9])"
   ]
  },
  {
   "cell_type": "markdown",
   "id": "32c8d512-4057-4f32-8990-de7321b9d4ee",
   "metadata": {},
   "source": [
    "### Question 9.\n",
    "#### Write a Python program to check user password has following:\n",
    "#### Whether the string contains any uppercase characters. Whether the string contains any lowercase characters. Whether the string contains any spaces. Whether the string contains any special characters (anything other than letters, digits, and spaces)."
   ]
  },
  {
   "cell_type": "code",
   "execution_count": 28,
   "id": "d6985eed-6790-4b2f-b29b-28d0a5e1f5e3",
   "metadata": {},
   "outputs": [
    {
     "name": "stdin",
     "output_type": "stream",
     "text": [
      "Enter your password:  SHUJAT@\n"
     ]
    },
    {
     "name": "stdout",
     "output_type": "stream",
     "text": [
      "Password checks:\n",
      "Contains uppercase characters: True\n",
      "Contains lowercase characters: False\n",
      "Contains spaces: False\n",
      "Contains special characters: True\n"
     ]
    }
   ],
   "source": [
    "import string\n",
    "\n",
    "password = input(\"Enter your password: \")\n",
    "contains_uppercase = any(char.isupper() for char in password) \n",
    "contains_lowercase = any(char.islower() for char in password) \n",
    "contains_space = any(char.isspace() for char in password)\n",
    "special_characters = string.punctuation\n",
    "contains_special = any(char in special_characters for char in password)\n",
    "\n",
    "print(\"Password checks:\")\n",
    "print(f\"Contains uppercase characters: {contains_uppercase}\")\n",
    "print(f\"Contains lowercase characters: {contains_lowercase}\")\n",
    "print(f\"Contains spaces: {contains_space}\")\n",
    "print(f\"Contains special characters: {contains_special}\")"
   ]
  },
  {
   "cell_type": "markdown",
   "id": "945cc5ec-7dfd-4e4c-b3a6-5e85273ae50e",
   "metadata": {},
   "source": [
    "### Question 10: Find the Longest Word\n",
    "#### Write a Python program that finds the longest word in a given string.\n",
    "#### Example:\n",
    "#### Input: \"I love programming in Python\"\n",
    "#### Output: \"programming\""
   ]
  },
  {
   "cell_type": "code",
   "execution_count": 34,
   "id": "7c4c0495-6f81-4358-8492-5ae7e6424330",
   "metadata": {},
   "outputs": [
    {
     "name": "stdout",
     "output_type": "stream",
     "text": [
      "programming\n"
     ]
    }
   ],
   "source": [
    "Input= \"I love programming in Python\"\n",
    "words = Input.split()\n",
    "longestword = max(words, key = len)\n",
    "print(longestword)"
   ]
  },
  {
   "cell_type": "code",
   "execution_count": null,
   "id": "05338b6a-ba2c-4f5c-b549-5abf330dbec0",
   "metadata": {},
   "outputs": [],
   "source": []
  },
  {
   "cell_type": "code",
   "execution_count": null,
   "id": "ed20d583-5dad-4726-90c6-b5ed9aa04f61",
   "metadata": {},
   "outputs": [],
   "source": []
  }
 ],
 "metadata": {
  "kernelspec": {
   "display_name": "Python 3 (ipykernel)",
   "language": "python",
   "name": "python3"
  },
  "language_info": {
   "codemirror_mode": {
    "name": "ipython",
    "version": 3
   },
   "file_extension": ".py",
   "mimetype": "text/x-python",
   "name": "python",
   "nbconvert_exporter": "python",
   "pygments_lexer": "ipython3",
   "version": "3.12.7"
  }
 },
 "nbformat": 4,
 "nbformat_minor": 5
}
