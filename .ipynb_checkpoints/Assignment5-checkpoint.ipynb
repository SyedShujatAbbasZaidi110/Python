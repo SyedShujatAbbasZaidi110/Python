{
 "cells": [
  {
   "cell_type": "markdown",
   "id": "7727eff5-3f89-4a15-a238-53aec13912e2",
   "metadata": {},
   "source": [
    "### Question 1\n",
    "#### Write a Python function called add_numbers that takes two numbers as arguments and returns their sum. Then, test the function by calling it with two numbers of your choice."
   ]
  },
  {
   "cell_type": "code",
   "execution_count": 2,
   "id": "9bb12295-a626-4b67-afa7-2720be3279b5",
   "metadata": {},
   "outputs": [
    {
     "data": {
      "text/plain": [
       "5"
      ]
     },
     "execution_count": 2,
     "metadata": {},
     "output_type": "execute_result"
    }
   ],
   "source": [
    "def add_numbers (x,y):\n",
    "    return x + y\n",
    "\n",
    "add_numbers(2,3)"
   ]
  },
  {
   "cell_type": "markdown",
   "id": "74af9efb-9b02-49dd-ad49-59386f7a84b9",
   "metadata": {},
   "source": [
    "### Question 2\n",
    "#### Write a Python function count_vowels that accepts a string and returns the number of vowels (a, e, i, o, u) in that string.\n",
    "\n",
    "#### Example: 'Orange'\n",
    "#### Output: 3 vowels\n"
   ]
  },
  {
   "cell_type": "code",
   "execution_count": 8,
   "id": "eac8b52b-86ac-437c-afcd-ebbf0f7e958a",
   "metadata": {},
   "outputs": [
    {
     "name": "stdout",
     "output_type": "stream",
     "text": [
      "3 vowels\n"
     ]
    }
   ],
   "source": [
    "def count_vowels (input_string):\n",
    "    vowels = 'aeiouAEIOU'\n",
    "    count = 0\n",
    "\n",
    "    \n",
    "    for x in input_string:\n",
    "        if x in vowels:  # Check if the character is a vowel\n",
    "         count+=1\n",
    "    \n",
    "    print(f\"{count} vowels\")       \n",
    "             \n",
    "count_vowels('orange')"
   ]
  },
  {
   "cell_type": "markdown",
   "id": "45ea465c-7ea3-4402-a06a-574363af90b8",
   "metadata": {},
   "source": [
    "### Question 3\n",
    "#### Create a Python function called currency_converter() that takes two arguments:\n",
    "\n",
    "#### amount: The amount of money to be converted (in USD).\n",
    "#### exchange_rate (default is 280): The conversion rate from USD to another currency (e.g., PKR). You can assume the default rate is 1 USD = 280 PKR.\n",
    "#### The function should return a message showing how much the given amount is worth in the target currency (PKR).\n"
   ]
  },
  {
   "cell_type": "code",
   "execution_count": 11,
   "id": "e4147d8f-2e8b-4738-b77b-d9675770b72e",
   "metadata": {},
   "outputs": [
    {
     "name": "stdout",
     "output_type": "stream",
     "text": [
      "2 USD is equal to 560 PKR.\n",
      "2 USD is equal to 600 PKR.\n"
     ]
    }
   ],
   "source": [
    "def currency_converter(amount, rate = 280):\n",
    "   converted_amount = amount * rate\n",
    "   return f\"{amount} USD is equal to {converted_amount} PKR.\"\n",
    "    \n",
    "print(currency_converter(2))  #by default value\n",
    "print(currency_converter(2,300)) #by user given value\n"
   ]
  },
  {
   "cell_type": "markdown",
   "id": "3eb8fe4d-cb49-4a1a-9e7a-15f5b69d5e3f",
   "metadata": {},
   "source": [
    "### Question 4\n",
    "#### Write a Python function display_student_info that accepts the following details about a student:\n",
    "\n",
    "#### name (Keyword argument): The name of the student.\n",
    "#### age (Keyword argument): The age of the student.\n",
    "#### grade (Keyword argument): The grade the student is in.\n",
    "#### school (Keyword argument): The name of the school the student attends.\n"
   ]
  },
  {
   "cell_type": "code",
   "execution_count": 14,
   "id": "5f569401-ae45-4f5a-a6de-dac9838c4a64",
   "metadata": {},
   "outputs": [
    {
     "data": {
      "text/plain": [
       "{'name': 'Shujat', 'age': 20, 'grade': 'A', 'school': 'private'}"
      ]
     },
     "execution_count": 14,
     "metadata": {},
     "output_type": "execute_result"
    }
   ],
   "source": [
    "def display_student_info (**info):\n",
    "    return info\n",
    "\n",
    "display_student_info(name = \"Shujat\",age = 20, grade = 'A', school='private')\n"
   ]
  },
  {
   "cell_type": "markdown",
   "id": "680eb25e-43ff-40b5-966f-5b7f153861f3",
   "metadata": {},
   "source": [
    "### Question 5\n",
    "#### Write a Python function calculate_price that accepts two positional arguments:\n",
    "\n",
    "#### price: The price of a single item.\n",
    "#### quantity: The number of items bought.\n",
    "#### The function should return the total price by multiplying price and quantity."
   ]
  },
  {
   "cell_type": "code",
   "execution_count": 17,
   "id": "0a3af31d-e5dd-4957-b683-b8633ccf739d",
   "metadata": {},
   "outputs": [
    {
     "data": {
      "text/plain": [
       "'Total amount is 600'"
      ]
     },
     "execution_count": 17,
     "metadata": {},
     "output_type": "execute_result"
    }
   ],
   "source": [
    "def calculate_price (price , quantity):\n",
    "    amount = price * quantity\n",
    "    return f\"Total amount is {amount}\"\n",
    "\n",
    "calculate_price(200,3)"
   ]
  },
  {
   "cell_type": "markdown",
   "id": "a6e8a7bb-a98f-40ce-a8b2-3c3c2f823cec",
   "metadata": {},
   "source": [
    "### Question 6\n",
    "#### Write a Python function display_prices that takes a product name and an arbitrary number of keyword arguments representing product prices. The function should display each product and its price.\n",
    "\n",
    "#### Product: Laptop\n",
    "\n",
    "#### Amazon: $800\n",
    "\n",
    "#### eBay: $750\n",
    "\n",
    "#### Walmart: $780"
   ]
  },
  {
   "cell_type": "code",
   "execution_count": 20,
   "id": "d5f14910-11ba-45ba-8138-00239fad14b2",
   "metadata": {},
   "outputs": [
    {
     "name": "stdout",
     "output_type": "stream",
     "text": [
      "  . Product : Laptop\n",
      "  . Amazon : $800\n",
      "  . eBay : $750\n",
      "  . Walmart : $780\n"
     ]
    }
   ],
   "source": [
    "def product_info (**details):\n",
    "    for keys , values in details.items():\n",
    "        print(f\"  . {keys} : {values}\")\n",
    "\n",
    "product_info(Product = 'Laptop', Amazon = '$800', eBay = '$750', Walmart = '$780')\n"
   ]
  },
  {
   "cell_type": "markdown",
   "id": "32c8559e-ca45-438e-bcdb-cc53fb555563",
   "metadata": {},
   "source": [
    "### Question 7\n",
    "#### Write a Python function find_max that takes any number of numerical arguments and returns the maximum number"
   ]
  },
  {
   "cell_type": "code",
   "execution_count": 23,
   "id": "7a35cf41-f688-4e79-9ef6-ab19e5eccf83",
   "metadata": {},
   "outputs": [
    {
     "data": {
      "text/plain": [
       "60"
      ]
     },
     "execution_count": 23,
     "metadata": {},
     "output_type": "execute_result"
    }
   ],
   "source": [
    "def find_max (*value):\n",
    "    result = max(value)\n",
    "    return result\n",
    "\n",
    "find_max (50,60,30,10)\n"
   ]
  },
  {
   "cell_type": "markdown",
   "id": "f720d8ce-255c-49db-85a6-2f01ab870565",
   "metadata": {},
   "source": [
    "### Question 8\n",
    "#### Write a Python function display_info that takes:\n",
    "\n",
    "#### Positional arguments for the name and age of a person.\n",
    "#### Keyword arguments for other personal details like address, phone number, and email.\n",
    "#### Example Output:\n",
    "\n",
    "#### Name: Alice\n",
    "#### Age: 30\n",
    "#### Other Details:\n",
    "#### address: 123 Main St\n",
    "#### phone: 123-456-7890\n",
    "#### email: alice@example.com\n"
   ]
  },
  {
   "cell_type": "code",
   "execution_count": 30,
   "id": "72eb66b7-9e0c-44e2-b532-c75269b3f6e7",
   "metadata": {},
   "outputs": [
    {
     "name": "stdout",
     "output_type": "stream",
     "text": [
      ". Name : Shujat\n",
      ". Age : 20\n",
      ". Other details\n",
      "   . address : 123 Main St\n",
      "   . phone : -8223\n",
      "   . email : alice@example.com\n"
     ]
    }
   ],
   "source": [
    "def display_info (name,age,**info):\n",
    "    print(f\". Name : {name}\")\n",
    "    print(f\". Age : {age}\")\n",
    "    print(f\". Other details\")\n",
    "    for x,y in info.items():\n",
    "        print(f\"   . {x} : {y}\")\n",
    "           \n",
    "\n",
    "display_info(\"Shujat\",20, address= '123 Main St' , phone = 123-456-7890, email= 'alice@example.com' )\n",
    "\n"
   ]
  },
  {
   "cell_type": "markdown",
   "id": "4b920253-41a0-4e1c-993c-56856e8c03ea",
   "metadata": {},
   "source": [
    "### Question 9\n",
    "#### Write a Python function calculate_rectangle that accepts the length and width of a rectangle as arguments. Inside this function, create two nested functions:\n",
    "\n",
    "#### calculate_area: This function should calculate the area of the rectangle.\n",
    "#### calculate_perimeter: This function should calculate the perimeter of the rectangle.\n",
    "#### The main function should return both the area and the perimeter of the rectangle."
   ]
  },
  {
   "cell_type": "code",
   "execution_count": 33,
   "id": "1a6a43dc-f201-4b05-8bfe-90c0d6076400",
   "metadata": {},
   "outputs": [
    {
     "name": "stdout",
     "output_type": "stream",
     "text": [
      "Area : 30\n",
      "Perimeter : 22\n"
     ]
    }
   ],
   "source": [
    "def calculate_rectangle (length,width):\n",
    "    def calculate_area ():\n",
    "         return length * width\n",
    "\n",
    "    def calculate_perimeter():\n",
    "        return 2 * (length + width)\n",
    "\n",
    "    area = calculate_area()\n",
    "    perimeter = calculate_perimeter()\n",
    "    print(f\"Area : {area}\")\n",
    "    print(f\"Perimeter : {perimeter}\")\n",
    "   \n",
    "calculate_rectangle(5,6)\n"
   ]
  },
  {
   "cell_type": "markdown",
   "id": "38d62425-522b-4668-bd71-154021e8a07a",
   "metadata": {},
   "source": [
    "### Question 10\n",
    "#### products = [ {\"name\": \"Laptop\", \"price\": 1200, \"in_stock\": True, \"discount\": 0.1}, {\"name\": \"Smartphone\", \"price\": 800, \"in_stock\": False, \"discount\": 0.05}, {\"name\": \"Headphones\", \"price\": 150, \"in_stock\": True, \"discount\": 0.2}, {\"name\": \"Smartwatch\", \"price\": 300, \"in_stock\": True, \"discount\": 0}, {\"name\": \"Keyboard\", \"price\": 100, \"in_stock\": True, \"discount\": 0.15} ]\n",
    "\n",
    "#### Get names of in-stock products:\n",
    "\n",
    "#### *Use list comprehension to generate a list of names for the products that are in stock.\n",
    "\n",
    "#### Calculate final prices for in-stock products after discount:\n",
    "\n",
    "#### *For products that have a discount, calculate the final price by applying the discount.\n",
    "\n",
    "#### *For products with no discount, keep the original price.\n",
    "\n",
    "#### Generate a list of tuples with the product name and its final price.\n",
    "\n",
    "#### Example Output:\n",
    "\n",
    "#### In-stock product names: ['Laptop', 'Headphones', 'Smartwatch', 'Keyboard']\n",
    "#### Discounted prices: [('Laptop', 1080.0), ('Headphones', 120.0), ('Smartwatch', 300), ('Keyboard', 85.0)]"
   ]
  },
  {
   "cell_type": "code",
   "execution_count": 38,
   "id": "a157b084-70f4-46b9-8cb3-0dbfc35394fd",
   "metadata": {},
   "outputs": [],
   "source": [
    "products = [ {\"name\": \"Laptop\", \"price\": 1200, \"in_stock\": True, \"discount\": 0.1}, {\"name\": \"Smartphone\", \"price\": 800, \"in_stock\": False, \"discount\": 0.05}, {\"name\": \"Headphones\", \"price\": 150, \"in_stock\": True, \"discount\": 0.2}, {\"name\": \"Smartwatch\", \"price\": 300, \"in_stock\": True, \"discount\": 0}, {\"name\": \"Keyboard\", \"price\": 100, \"in_stock\": True, \"discount\": 0.15} ]\n"
   ]
  },
  {
   "cell_type": "code",
   "execution_count": 40,
   "id": "848baeb6-283a-4215-ac49-fd54a268bcda",
   "metadata": {},
   "outputs": [
    {
     "name": "stdout",
     "output_type": "stream",
     "text": [
      "In-stock product names: ['Laptop', 'Headphones', 'Smartwatch', 'Keyboard']\n",
      "Discounted prices: [('Laptop', 1080.0), ('Headphones', 120.0), ('Smartwatch', 300), ('Keyboard', 85.0)]\n"
     ]
    }
   ],
   "source": [
    "stock = [names['name'] for names in products   # Get names of in-stock products\n",
    "        if names['in_stock'] == True]\n",
    "\n",
    "\n",
    "discounted_prices = [\n",
    "    (product[\"name\"], product[\"price\"] * (1 - product[\"discount\"]) if product[\"discount\"] > 0 else product[\"price\"]) \n",
    "    for product in products if product[\"in_stock\"] # Calculate final prices for in-stock products after discount\n",
    "]\n",
    "\n",
    "print(\"In-stock product names:\", stock)\n",
    "print(\"Discounted prices:\", discounted_prices)"
   ]
  },
  {
   "cell_type": "code",
   "execution_count": null,
   "id": "16fa5e19-0ad2-4561-8d1a-3056d2d680d5",
   "metadata": {},
   "outputs": [],
   "source": []
  }
 ],
 "metadata": {
  "kernelspec": {
   "display_name": "Python 3 (ipykernel)",
   "language": "python",
   "name": "python3"
  },
  "language_info": {
   "codemirror_mode": {
    "name": "ipython",
    "version": 3
   },
   "file_extension": ".py",
   "mimetype": "text/x-python",
   "name": "python",
   "nbconvert_exporter": "python",
   "pygments_lexer": "ipython3",
   "version": "3.12.7"
  }
 },
 "nbformat": 4,
 "nbformat_minor": 5
}
