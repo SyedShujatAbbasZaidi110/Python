{
 "cells": [
  {
   "cell_type": "markdown",
   "id": "34d94aec-7e16-42f1-9981-8f687abbe5d5",
   "metadata": {},
   "source": [
    "### Question 1\n",
    "#### The person must be 18 years or older. The person must have a credit score of 650 or higher. The person must have an annual income of at least 30000 dollars If the person has a credit score of 700 or higher, they may still be eligible with an income of 25000 dollars or more."
   ]
  },
  {
   "cell_type": "code",
   "execution_count": 2,
   "id": "814505ea-d5a4-48c8-ae11-07aa9d969149",
   "metadata": {},
   "outputs": [
    {
     "name": "stdin",
     "output_type": "stream",
     "text": [
      "Enter your age :  19\n",
      "Enter your credit score :  700\n",
      "Enter your annual income in dollar :  25000\n"
     ]
    },
    {
     "name": "stdout",
     "output_type": "stream",
     "text": [
      "You are eligible for the loan.\n"
     ]
    }
   ],
   "source": [
    "age = int(input(\"Enter your age : \"))\n",
    "credit_score = int(input(\"Enter your credit score : \"))\n",
    "annual_income = int(input(\"Enter your annual income in dollar : \"))\n",
    "\n",
    "if age >= 18:\n",
    "    if credit_score >= 650 and annual_income >= 30000:\n",
    "        print(\"Your are eligible for the loan.\")\n",
    "    elif credit_score >= 700 and annual_income >= 25000:\n",
    "        print(\"You are eligible for the loan.\")\n",
    "    else:\n",
    "        print(\"You are not eligible: Does not meet credit score and/or income requirements.\")\n",
    "else:\n",
    "    print(\"You are not eligible: Must be at least 18 years old.\")"
   ]
  },
  {
   "cell_type": "markdown",
   "id": "2420986f-b4b4-484b-9155-8ebd216a7fcc",
   "metadata": {},
   "source": [
    "### Question 2\n",
    "#### Take the age as input.If the person is underage (age>= 18), show message: You are underage and don;t ask for experience.If the person is an adult, take years of experience as input and print: You have a lot of experience.(10+ years) You have moderate experience (5-9 years) You are relatively new (2-4 years)You are just starting out. (less than 2 years)"
   ]
  },
  {
   "cell_type": "code",
   "execution_count": 4,
   "id": "2d40232e-e3b4-4e2f-93a5-ff2caab45c29",
   "metadata": {},
   "outputs": [
    {
     "name": "stdin",
     "output_type": "stream",
     "text": [
      "Enter your age : 20\n",
      "Enter your experience : 15\n"
     ]
    },
    {
     "name": "stdout",
     "output_type": "stream",
     "text": [
      "You have a lot of experience.\n"
     ]
    }
   ],
   "source": [
    "age = int(input(\"Enter your age :\"))\n",
    "if age < 18:\n",
    "    print(\"You are underage.\")\n",
    "else:\n",
    "    exp = int(input(\"Enter your experience :\"))\n",
    "    if exp >= 10:\n",
    "        print(\"You have a lot of experience.\")\n",
    "    elif 5 <= exp <= 9:\n",
    "        print(\"You have moderate experience.\")\n",
    "    elif 2 <= exp <= 4:\n",
    "        print(\"You are relatively new.\")\n",
    "    else:\n",
    "        print(\"You are just starting out.\")"
   ]
  },
  {
   "cell_type": "markdown",
   "id": "6d365a0d-b2c2-469b-bf7b-4214346e0f2d",
   "metadata": {},
   "source": [
    "### Question 3\n",
    "#### Write a program to explore below variables \n",
    "#### a) Print their memory address (to check if python assigns same address of different variables having same element)\n",
    "#### b) Find memory size and append them in a list, use this list to find data type having least memory size \n",
    "#### c) Print final name of data type which has lowest memory Result will help a programmer to decide which variable is storing less memory and variable locations"
   ]
  },
  {
   "cell_type": "code",
   "execution_count": 6,
   "id": "12346870-ae3b-4830-8c74-f4cb28767e71",
   "metadata": {},
   "outputs": [
    {
     "name": "stdout",
     "output_type": "stream",
     "text": [
      "Memory address of a_string : 2562266483248\n",
      "Memory address of b_int : 140714658248536\n",
      "Memory address of c_float : 2562288572496\n",
      "Memory address of d_tuple : 2562289910464\n",
      "Memory address of e_list : 2562266459584\n"
     ]
    }
   ],
   "source": [
    "a_string = \"You are mine.\"\n",
    "b_int = 110\n",
    "c_float = 99.9\n",
    "d_tuple = (\"shujat\" , 110)\n",
    "e_list = [2 , 6 , 9]\n",
    "\n",
    "print(\"Memory address of a_string :\" , id(a_string))\n",
    "print(\"Memory address of b_int :\" , id(b_int))\n",
    "print(\"Memory address of c_float :\" , id(c_float))\n",
    "print(\"Memory address of d_tuple :\" , id(d_tuple))\n",
    "print(\"Memory address of e_list :\" , id(e_list))"
   ]
  },
  {
   "cell_type": "code",
   "execution_count": 7,
   "id": "db3f26a0-662a-4f38-ab34-fea2615e977b",
   "metadata": {},
   "outputs": [
    {
     "name": "stdout",
     "output_type": "stream",
     "text": [
      "c_float has least memory size:  24  bytes\n"
     ]
    }
   ],
   "source": [
    "import sys\n",
    "memory_sizes = []\n",
    "memory_sizes.append(sys.getsizeof(a_string))\n",
    "memory_sizes.append(sys.getsizeof(b_int))\n",
    "memory_sizes.append(sys.getsizeof(c_float))\n",
    "memory_sizes.append(sys.getsizeof(d_tuple))\n",
    "memory_sizes.append(sys.getsizeof(e_list))\n",
    "\n",
    "least_size = min(memory_sizes)\n",
    "\n",
    "if least_size == memory_sizes[0]:\n",
    "    print(\"a_string has least memory size: \" , least_size , \" bytes\")\n",
    "elif least_size == memory_sizes[1]:\n",
    "     print(\"b_int has least memory size: \" , least_size , \" bytes\")\n",
    "elif least_size == memory_sizes[2]:\n",
    "     print(\"c_float has least memory size: \" ,  least_size , \" bytes\")\n",
    "elif least_size == memory_sizes[3]:\n",
    "    print(\"d_tuple has least memory size: \" , least_size , \"bytes\")\n",
    "else:\n",
    "    print(\"e_list has least memory size: \" , least_size , \" bytes\")\n"
   ]
  },
  {
   "cell_type": "markdown",
   "id": "77649f6c-532c-469c-9279-c0c14c6329b7",
   "metadata": {},
   "source": [
    "### Question 4\n",
    "#### Write a Python program that asks the user to enter an email address. The program should check if the email contains the characters @ and . (ignoring case). If either character is present, print \"Email format is valid. Otherwise, print Invalid email format;"
   ]
  },
  {
   "cell_type": "code",
   "execution_count": 9,
   "id": "0b95cdb6-41ae-4b46-9e8f-6a81f537a706",
   "metadata": {},
   "outputs": [
    {
     "name": "stdin",
     "output_type": "stream",
     "text": [
      "Enter your Email : shujat@gmail.com\n"
     ]
    },
    {
     "name": "stdout",
     "output_type": "stream",
     "text": [
      "Email format is valid.\n"
     ]
    }
   ],
   "source": [
    "email = input(\"Enter your Email :\")\n",
    "if \"@\" in email and \".\" in email:\n",
    "    print(\"Email format is valid.\")\n",
    "else:\n",
    "    print(\"Invalid email format.\")"
   ]
  },
  {
   "cell_type": "markdown",
   "id": "b5f9cb50-47c6-4465-a45c-e6d539865c55",
   "metadata": {},
   "source": [
    "### Question 5\n",
    "#### Write a python program to know data type of each element stored in a tuple, append the data types in a list. Show final output in a list as data types of tuple elements x = (11,22.333,\"apple\",[1,2,3,],('a','b'))"
   ]
  },
  {
   "cell_type": "code",
   "execution_count": 11,
   "id": "8fba2fa4-9fbb-4e4e-bce8-c96a6df0cbd1",
   "metadata": {},
   "outputs": [
    {
     "name": "stdout",
     "output_type": "stream",
     "text": [
      "Data Types of Tuple Elements : [<class 'int'>, <class 'str'>, <class 'float'>, <class 'list'>, <class 'tuple'>]\n"
     ]
    }
   ],
   "source": [
    "my_tuple = (110 , \"shujat\" , 15.6 , [1, 2 , 3] , (\"a\" , \"b\" , 5))\n",
    "data_type_list = []\n",
    "\n",
    "data_type_list.append(type(my_tuple[0]))\n",
    "data_type_list.append(type(my_tuple[1]))\n",
    "data_type_list.append(type(my_tuple[2]))\n",
    "data_type_list.append(type(my_tuple[3]))\n",
    "data_type_list.append(type(my_tuple[4]))\n",
    "\n",
    "print(\"Data Types of Tuple Elements :\" , data_type_list)"
   ]
  },
  {
   "cell_type": "markdown",
   "id": "9430707d-4974-41b4-8a1b-995a25269cfe",
   "metadata": {},
   "source": [
    "### Question 6\n",
    "#### Write a Python program that: Checks if a given username exists in a list of active users.Verifies if the user is the admin using identity operators. Hints: Use a list of tuples where each tuple contains a username and role (\"alice\",\"admin\") (\"bob\",\"user\") (\"charlie\",\"moderator\") Use the in operator to check if the username exists in the list. Use the is operator to check if the user is the admin"
   ]
  },
  {
   "cell_type": "code",
   "execution_count": 13,
   "id": "f9c5dd2e-27c5-4c41-ba92-491bbaa432af",
   "metadata": {},
   "outputs": [
    {
     "name": "stdin",
     "output_type": "stream",
     "text": [
      "Enter the username :  alice\n"
     ]
    },
    {
     "name": "stdout",
     "output_type": "stream",
     "text": [
      "User alice exists.\n",
      "User alice is the admin.\n"
     ]
    }
   ],
   "source": [
    "\n",
    "active_users = [(\"alice\", \"admin\"),(\"bob\", \"user\"),(\"charlie\", \"moderator\")]\n",
    "username = input(\"Enter the username : \")\n",
    "user_exists = (username , \"admin\") in active_users or (username , \"user\") in active_users or (username , \"moderator\") in active_users\n",
    "\n",
    "if user_exists:\n",
    "    print(\"User\" , username , \"exists.\")\n",
    "    if (username, \"admin\") in active_users:\n",
    "        print(\"User\" , username , \"is the admin.\")\n",
    "    else:\n",
    "        print(\"User\" , username , \"is not the admin.\")\n",
    "else:\n",
    "    print(\"User\" , username , \"does not exist.\")"
   ]
  },
  {
   "cell_type": "markdown",
   "id": "59d7ceb4-551b-4e4f-8bbb-72647aa3b0d5",
   "metadata": {},
   "source": [
    "### Question 7\n",
    "#### person1 has same family as of person2, write a program to print relation between person1 and person2, if their data is \"father name','mother name','district','family number'] same (Print relation Siblings) also check person1 data with person3 which is cousin of person1 (Print relation Cousin) Hint: Use identity operator"
   ]
  },
  {
   "cell_type": "code",
   "execution_count": 25,
   "id": "265b189c-f263-4f08-8b96-2e636fd69f80",
   "metadata": {},
   "outputs": [
    {
     "name": "stdout",
     "output_type": "stream",
     "text": [
      "Relation : Siblings\n",
      "Relation : Cousins\n"
     ]
    }
   ],
   "source": [
    "person1 = [\"Nisar Abbas\" , \"Syeda Fatima\" , \"East\" , 110]\n",
    "person2 = person1\n",
    "person3 = [\"Abbas\" , \"Syeda\" , \"East\" , 786]\n",
    "if person1 is person2:\n",
    "    print(\"Relation : Siblings\")\n",
    "else:\n",
    "    print(\"Relation : Not Siblings\")\n",
    "\n",
    "if person1 is not person3:\n",
    "    print(\"Relation : Cousins\")\n",
    "else:\n",
    "    print(\"Relation : not cousins\")"
   ]
  },
  {
   "cell_type": "markdown",
   "id": "bca29f24-c009-474f-a02b-6b6661157dae",
   "metadata": {},
   "source": [
    "### Question 8\n",
    "#### Write a Python program to store and display a book's title, author, year of publication, and price using a tuple. Instructions: Create a tuple to store the book details. Ask the user for the book's title, author, year, and price. Display the stored book information."
   ]
  },
  {
   "cell_type": "code",
   "execution_count": 38,
   "id": "bfc389b3-2068-45b4-9595-27c2c03de7fd",
   "metadata": {},
   "outputs": [
    {
     "name": "stdin",
     "output_type": "stream",
     "text": [
      "Enter the book's title : Motivation\n",
      "Enter the author's name : Shujat Abbas\n",
      "Enter the year of publication :  2024\n",
      "Enter the book's price :  1999\n"
     ]
    },
    {
     "name": "stdout",
     "output_type": "stream",
     "text": [
      "Book information: \n",
      "Title :  Motivation\n",
      "Author :  Shujat Abbas\n",
      "Year of publication :  2024\n",
      "Price :  1999.0\n"
     ]
    }
   ],
   "source": [
    "title = input(\"Enter the book's title :\")\n",
    "author = input(\"Enter the author's name :\")\n",
    "year = int(input(\"Enter the year of publication : \"))\n",
    "price = float(input(\"Enter the book's price : \"))\n",
    "\n",
    "book_details = (title , author , year , price)\n",
    "\n",
    "print(\"Book information: \")\n",
    "print(\"Title : \" , book_details[0])\n",
    "print(\"Author : \" , book_details[1])\n",
    "print(\"Year of publication : \" , book_details[2])\n",
    "print(\"Price : \" , book_details[3])"
   ]
  },
  {
   "cell_type": "markdown",
   "id": "a3837773-87b6-41df-982d-3be3a60b600a",
   "metadata": {},
   "source": [
    "### Question 9\n",
    "#### Write a program to check if a user’s chosen subject is available in the list of offered subjects. Instructions: Given a list of subjects, ask the user to input a subject. Display whether the subject is available or not."
   ]
  },
  {
   "cell_type": "code",
   "execution_count": 45,
   "id": "b3ea1e84-ae85-49bc-a0bb-7ba112788ee8",
   "metadata": {},
   "outputs": [
    {
     "name": "stdin",
     "output_type": "stream",
     "text": [
      "Enter the subject name : Physics\n"
     ]
    },
    {
     "name": "stdout",
     "output_type": "stream",
     "text": [
      "Physics is available\n"
     ]
    }
   ],
   "source": [
    "subjects = [\"Math\" , \"Computer\" , \"Science\" , \"Physics\" , \"Chemistry\"]\n",
    "user_sub = input(\"Enter the subject name :\")\n",
    "\n",
    "if user_sub in subjects:\n",
    "    print(user_sub , \"is available\")\n",
    "else:\n",
    "    print(user_sub , \"is not available\")"
   ]
  },
  {
   "cell_type": "markdown",
   "id": "5a51a0d1-7868-4a9e-bafb-3bdbcac15b90",
   "metadata": {},
   "source": [
    "### Question 10\n",
    "#### Write a Python program that performs the following tasks using tuple methods Create a tuple with multiple integer values, including duplicates. Prompt the user to input a number and find the index of its first occurrence in the tuple. Ask the user for another number and count how many times it appears in the tuple. Display appropriate messages based on the results"
   ]
  },
  {
   "cell_type": "code",
   "execution_count": 5,
   "id": "95e78d75-6c5c-481a-b6a2-f33102192c1a",
   "metadata": {},
   "outputs": [
    {
     "name": "stdin",
     "output_type": "stream",
     "text": [
      "Enter a number :  45\n"
     ]
    },
    {
     "name": "stdout",
     "output_type": "stream",
     "text": [
      "The number 45 is not in the tuple.\n"
     ]
    },
    {
     "name": "stdin",
     "output_type": "stream",
     "text": [
      "Enter another number :  76\n"
     ]
    },
    {
     "name": "stdout",
     "output_type": "stream",
     "text": [
      "The number 76  appears 2 time in the tuple\n"
     ]
    }
   ],
   "source": [
    "values = (34 , 76 , 94 , 12 , 92 , 34 , 76 , 87 , 110)\n",
    "user_value = int(input(\"Enter a number : \"))\n",
    "\n",
    "if user_value in values:\n",
    "    print(f\"The number {user_value}  first occurs at index  {values.index(user_value)}\")\n",
    "else:\n",
    "    print(f\"The number {user_value} is not in the tuple.\")\n",
    "\n",
    "\n",
    "user_value2 = int(input(\"Enter another number : \"))\n",
    "\n",
    "if user_value2 in values:\n",
    "    print(f\"The number {user_value2}  appears {values.count(user_value2)} time in the tuple\")\n",
    "else:\n",
    "    print(f\"The number {user_value2} does not appears in the tuple.\")"
   ]
  },
  {
   "cell_type": "markdown",
   "id": "f7cd64f7-358a-4fbf-ab86-b3e92ccf7bdb",
   "metadata": {},
   "source": [
    "## Question for Hard working learners (Not Mandatory)\n",
    "#### Write a Python program that asks the user to enter the current temperature in Celsius and checks whether it's freezing, normal, or hot based on predefined temperature values. Assignment Requirements: Input: The user will be asked to enter the current temperature in Celsius. Predefined values: Freezing: -5 Normal: 25 Hot: 40"
   ]
  },
  {
   "cell_type": "code",
   "execution_count": 8,
   "id": "d69400b0-b0bb-4de1-99d2-6a6f8aade8fb",
   "metadata": {},
   "outputs": [
    {
     "name": "stdin",
     "output_type": "stream",
     "text": [
      "Enter the current temperature in Celsius : 24\n"
     ]
    },
    {
     "name": "stdout",
     "output_type": "stream",
     "text": [
      "The temperature is Normal\n"
     ]
    }
   ],
   "source": [
    "temperature = int(input(\"Enter the current temperature in Celsius :\"))\n",
    "if temperature <= -5:\n",
    "    print(\"The temperature is Freezing\")\n",
    "elif temperature <= 25:\n",
    "    print(\"The temperature is Normal\")\n",
    "else:\n",
    "    print(\"The temperature is Hot\")"
   ]
  },
  {
   "cell_type": "code",
   "execution_count": null,
   "id": "a279b24c-d4c7-4ff3-8ea2-5e0518b680ff",
   "metadata": {},
   "outputs": [],
   "source": []
  }
 ],
 "metadata": {
  "kernelspec": {
   "display_name": "Python 3 (ipykernel)",
   "language": "python",
   "name": "python3"
  },
  "language_info": {
   "codemirror_mode": {
    "name": "ipython",
    "version": 3
   },
   "file_extension": ".py",
   "mimetype": "text/x-python",
   "name": "python",
   "nbconvert_exporter": "python",
   "pygments_lexer": "ipython3",
   "version": "3.12.7"
  }
 },
 "nbformat": 4,
 "nbformat_minor": 5
}
